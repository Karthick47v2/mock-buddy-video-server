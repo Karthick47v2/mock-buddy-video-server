{
 "cells": [
  {
   "cell_type": "code",
   "execution_count": null,
   "metadata": {},
   "outputs": [],
   "source": [
    "! pip install python-pptx\n",
    "! pip install requests\n",
    "! pip install language-tool-python\n"
   ]
  },
  {
   "cell_type": "code",
   "execution_count": 177,
   "metadata": {},
   "outputs": [],
   "source": [
    "import requests\n",
    "from pptx import Presentation\n",
    "from collections import Counter\n",
    "import language_tool_python"
   ]
  },
  {
   "cell_type": "code",
   "execution_count": 63,
   "metadata": {},
   "outputs": [
    {
     "data": {
      "text/plain": [
       "2442383"
      ]
     },
     "execution_count": 63,
     "metadata": {},
     "output_type": "execute_result"
    }
   ],
   "source": [
    "ppt_url = 'https://docs.google.com/presentation/d/1BVRPYon5oT-a3WGGzN6gPHfZ_k9E9UwwbqazZeY1Srg/edit?usp=sharing'.split(\n",
    "    '/')\n",
    "ppt_url[-1] = 'export/pptx'\n",
    "\n",
    "ppt_url = '/'.join(ppt_url)\n",
    "\n",
    "\n",
    "response = requests.get(ppt_url)\n",
    "open(\"test.pptx\", \"wb\").write(response.content)\n"
   ]
  },
  {
   "cell_type": "code",
   "execution_count": 109,
   "metadata": {},
   "outputs": [],
   "source": [
    "txt_lst = []\n",
    "word_count = []\n",
    "\n",
    "shape_count = 0\n",
    "slide_count = 0\n",
    "\n",
    "font_lst = []\n",
    "\n",
    "with open('test.pptx', 'rb') as pptx:\n",
    "    prs = Presentation(pptx)\n",
    "    slide_count = len(prs.slides)\n",
    "    for slide in prs.slides:\n",
    "        slide_txt_lst = []\n",
    "        slide_word_count = []\n",
    "        for shape in slide.shapes:\n",
    "            if shape.has_text_frame:\n",
    "                for para in shape.text_frame.paragraphs:\n",
    "                    for run in para.runs:\n",
    "                        font_lst.append(run.font.name)\n",
    "                        slide_word_count.append(len(run.text.split(' ')))\n",
    "                        slide_txt_lst.append(run.text)\n",
    "            if(shape.shape_type == 13 or shape.shape_type == 6):\n",
    "                shape_count += 1\n",
    "        txt_lst.append(slide_txt_lst)\n",
    "        word_count.append(slide_word_count)"
   ]
  },
  {
   "cell_type": "code",
   "execution_count": null,
   "metadata": {},
   "outputs": [],
   "source": [
    "print(slide_count, shape_count)\n",
    "\n",
    "print(Counter(font_lst))\n",
    "\n",
    "for txt, count in zip(txt_lst, word_count):\n",
    "    print(txt)\n",
    "    print(count)"
   ]
  },
  {
   "cell_type": "code",
   "execution_count": 180,
   "metadata": {},
   "outputs": [],
   "source": [
    "mistakes = []\n",
    "mistake_exp = []\n",
    "top3_suggestions = []\n",
    "\n",
    "disable_rules = ['ARROWS', 'WHITESPACE_RULE', 'EN_COMPOUNDS']\n",
    "\n",
    "lang_tool = language_tool_python.LanguageTool('en-US')\n",
    "\n",
    "for idx, slide_txt in enumerate(txt_lst):\n",
    "    slide_mistakes = []\n",
    "    slide_mistake_exp = []\n",
    "    slide_top3_suggestions = []\n",
    "\n",
    "    for txt in slide_txt:\n",
    "        if len(txt) > 2:\n",
    "            predict = lang_tool.check(txt)\n",
    "            for rule in predict:\n",
    "                if(rule.ruleId in disable_rules):\n",
    "                    continue\n",
    "                if len(rule.replacements) > 0:\n",
    "                    if rule.context[rule.offset : rule.offset + 1].isalnum():\n",
    "                        slide_mistakes.append(\n",
    "                            rule.context[rule.offset: rule.errorLength + rule.offset])\n",
    "                        slide_mistake_exp.append(rule.message)\n",
    "                        slide_top3_suggestions.append(rule.replacements[:3])\n",
    "\n",
    "    mistakes.append(slide_mistakes)\n",
    "    mistake_exp.append(slide_mistake_exp)\n",
    "    top3_suggestions.append(slide_top3_suggestions)\n",
    "lang_tool.close()"
   ]
  },
  {
   "cell_type": "code",
   "execution_count": 181,
   "metadata": {},
   "outputs": [
    {
     "name": "stdout",
     "output_type": "stream",
     "text": [
      "SLIDE 1\n",
      "Karthick Possible spelling mistake found. ['Kart hick']\n",
      "SLIDE 2\n",
      "SLIDE 3\n",
      "SLIDE 4\n",
      "SLIDE 5\n",
      "iBug Possible spelling mistake found. ['bug']\n",
      "SLIDE 6\n",
      "RAVDESS Possible spelling mistake found. ['RAIDERS', 'RAVENS', 'RAVES']\n",
      "SAAVES Possible spelling mistake found. ['SLAVES', 'SAVES', 'STAVES']\n",
      "crossentropy Possible spelling mistake found. ['cross entropy']\n",
      "SLIDE 7\n",
      "ocket This sentence does not start with an uppercase letter. ['Ocket']\n",
      "SLIDE 8\n",
      "SLIDE 9\n",
      "MFCC Possible spelling mistake found. ['FCC', 'MFC', 'M FCC']\n",
      "Cepstral Possible spelling mistake found. ['Central']\n",
      "IDFT Possible spelling mistake found. ['IDF', 'DFT', 'IDT']\n"
     ]
    }
   ],
   "source": [
    "for i in range(slide_count):\n",
    "    print(f\"SLIDE {i+1}\")\n",
    "\n",
    "    for j in range(len(mistakes[i])):\n",
    "        print( mistakes[i][j],\n",
    "              mistake_exp[i][j], top3_suggestions[i][j])\n"
   ]
  }
 ],
 "metadata": {
  "kernelspec": {
   "display_name": "Python 3.10.4 64-bit",
   "language": "python",
   "name": "python3"
  },
  "language_info": {
   "codemirror_mode": {
    "name": "ipython",
    "version": 3
   },
   "file_extension": ".py",
   "mimetype": "text/x-python",
   "name": "python",
   "nbconvert_exporter": "python",
   "pygments_lexer": "ipython3",
   "version": "3.10.4"
  },
  "orig_nbformat": 4,
  "vscode": {
   "interpreter": {
    "hash": "31f2aee4e71d21fbe5cf8b01ff0e069b9275f58929596ceb00d14d90e3e16cd6"
   }
  }
 },
 "nbformat": 4,
 "nbformat_minor": 2
}
